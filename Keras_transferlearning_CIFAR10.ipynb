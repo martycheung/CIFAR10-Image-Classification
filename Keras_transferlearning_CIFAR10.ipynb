{
 "cells": [
  {
   "cell_type": "markdown",
   "metadata": {
    "deletable": true,
    "editable": true
   },
   "source": [
    "# Testing Transfer Learning in Keras"
   ]
  },
  {
   "cell_type": "code",
   "execution_count": 1,
   "metadata": {
    "collapsed": false,
    "deletable": true,
    "editable": true
   },
   "outputs": [
    {
     "name": "stderr",
     "output_type": "stream",
     "text": [
      "Using TensorFlow backend.\n"
     ]
    }
   ],
   "source": [
    "import keras\n",
    "from keras.datasets import cifar10\n",
    "import numpy as np\n",
    "from keras.applications.inception_v3 import InceptionV3, preprocess_input\n",
    "import scipy\n",
    "from scipy import misc\n",
    "import os\n"
   ]
  },
  {
   "cell_type": "code",
   "execution_count": 2,
   "metadata": {
    "collapsed": false,
    "deletable": true,
    "editable": true
   },
   "outputs": [],
   "source": [
    "import tensorflow as tf\n",
    "sess = tf.Session(config=tf.ConfigProto(log_device_placement=True))\n"
   ]
  },
  {
   "cell_type": "code",
   "execution_count": 3,
   "metadata": {
    "collapsed": false,
    "deletable": true,
    "editable": true
   },
   "outputs": [],
   "source": [
    "from keras.datasets import cifar10\n",
    "(x_train, y_train), (x_test, y_test) = cifar10.load_data()\n"
   ]
  },
  {
   "cell_type": "code",
   "execution_count": 4,
   "metadata": {
    "collapsed": false,
    "deletable": true,
    "editable": true
   },
   "outputs": [
    {
     "name": "stdout",
     "output_type": "stream",
     "text": [
      "model loaded\n",
      "bottleneck features detected (train)\n",
      "bottleneck features saved (train)\n"
     ]
    }
   ],
   "source": [
    "# load inceptionV3 model + remove final classification layers\n",
    "model = InceptionV3(weights='imagenet', include_top=False, input_shape=(139, 139, 3))\n",
    "print('model loaded')\n",
    "\n",
    "# obtain bottleneck features (train)\n",
    "if os.path.exists('inception_features_train.npz'):\n",
    "    print('bottleneck features detected (train)')\n",
    "    features = np.load('inception_features_train.npz')['features']\n",
    "else:\n",
    "    print('bottleneck features file not detected (train)')\n",
    "    print('calculating now ...')\n",
    "    # pre-process the train data\n",
    "    big_x_train = np.array([scipy.misc.imresize(x_train[i], (139, 139, 3)) \n",
    "                            for i in range(0, len(x_train))]).astype('float32')\n",
    "    inception_input_train = preprocess_input(big_x_train)\n",
    "    print('train data preprocessed')\n",
    "    # extract, process, and save bottleneck features\n",
    "    features = model.predict(inception_input_train)\n",
    "    features = np.squeeze(features)\n",
    "    np.savez('inception_features_train', features=features)\n",
    "print('bottleneck features saved (train)')"
   ]
  },
  {
   "cell_type": "code",
   "execution_count": 16,
   "metadata": {
    "collapsed": false,
    "deletable": true,
    "editable": true
   },
   "outputs": [
    {
     "name": "stdout",
     "output_type": "stream",
     "text": [
      "bottleneck features detected (test)\n",
      "bottleneck features saved (test)\n"
     ]
    }
   ],
   "source": [
    "# obtain bottleneck features (test)\n",
    "if os.path.exists('inception_features_test.npz'):\n",
    "    print('bottleneck features detected (test)')\n",
    "    features_test = np.load('inception_features_test.npz')['features_test']\n",
    "else:\n",
    "    print('bottleneck features file not detected (test)')\n",
    "    print('calculating now ...')\n",
    "    # pre-process the test data\n",
    "    big_x_test = np.array([scipy.misc.imresize(x_test[i], (139, 139, 3)) \n",
    "                       for i in range(0, len(x_test))]).astype('float32')\n",
    "    inception_input_test = preprocess_input(big_x_test)\n",
    "    # extract, process, and save bottleneck features (test)\n",
    "    features_test = model.predict(inception_input_test)\n",
    "    features_test = np.squeeze(features_test)\n",
    "    np.savez('inception_features_test', features_test=features_test)\n",
    "print('bottleneck features saved (test)')"
   ]
  },
  {
   "cell_type": "markdown",
   "metadata": {
    "deletable": true,
    "editable": true
   },
   "source": [
    "## Train NN"
   ]
  },
  {
   "cell_type": "code",
   "execution_count": 17,
   "metadata": {
    "collapsed": false,
    "deletable": true,
    "editable": true
   },
   "outputs": [],
   "source": [
    "from keras.utils import np_utils\n",
    "\n",
    "# one-hot encode the labels\n",
    "y_train = np_utils.to_categorical(y_train, 10)\n",
    "y_test = np_utils.to_categorical(y_test, 10)"
   ]
  },
  {
   "cell_type": "code",
   "execution_count": 18,
   "metadata": {
    "collapsed": false,
    "deletable": true,
    "editable": true
   },
   "outputs": [],
   "source": [
    "from keras.callbacks import ModelCheckpoint   \n",
    "from keras.models import Sequential\n",
    "from keras.layers import Dense, Dropout, Conv2D, GlobalAveragePooling2D"
   ]
  },
  {
   "cell_type": "code",
   "execution_count": 19,
   "metadata": {
    "collapsed": false,
    "deletable": true,
    "editable": true
   },
   "outputs": [
    {
     "name": "stdout",
     "output_type": "stream",
     "text": [
      "_________________________________________________________________\n",
      "Layer (type)                 Output Shape              Param #   \n",
      "=================================================================\n",
      "conv2d_189 (Conv2D)          (None, 2, 2, 100)         819300    \n",
      "_________________________________________________________________\n",
      "dropout_1 (Dropout)          (None, 2, 2, 100)         0         \n",
      "_________________________________________________________________\n",
      "global_average_pooling2d_1 ( (None, 100)               0         \n",
      "_________________________________________________________________\n",
      "dropout_2 (Dropout)          (None, 100)               0         \n",
      "_________________________________________________________________\n",
      "dense_1 (Dense)              (None, 10)                1010      \n",
      "=================================================================\n",
      "Total params: 820,310\n",
      "Trainable params: 820,310\n",
      "Non-trainable params: 0\n",
      "_________________________________________________________________\n",
      "Train on 40000 samples, validate on 10000 samples\n",
      "Epoch 1/50\n",
      "Epoch 00001: val_loss improved from inf to 3.00096, saving model to model.best.hdf5\n",
      " - 15s - loss: 4.4310 - acc: 0.6808 - val_loss: 3.0010 - val_acc: 0.7838\n",
      "Epoch 2/50\n",
      "Epoch 00002: val_loss did not improve\n",
      " - 13s - loss: 3.3413 - acc: 0.7661 - val_loss: 3.2205 - val_acc: 0.7777\n",
      "Epoch 3/50\n",
      "Epoch 00003: val_loss did not improve\n",
      " - 13s - loss: 3.2028 - acc: 0.7809 - val_loss: 3.3577 - val_acc: 0.7736\n",
      "Epoch 4/50\n",
      "Epoch 00004: val_loss did not improve\n",
      " - 13s - loss: 3.0931 - acc: 0.7903 - val_loss: 3.2148 - val_acc: 0.7816\n",
      "Epoch 5/50\n",
      "Epoch 00005: val_loss improved from 3.00096 to 2.84517, saving model to model.best.hdf5\n",
      " - 13s - loss: 2.9937 - acc: 0.7983 - val_loss: 2.8452 - val_acc: 0.8067\n",
      "Epoch 6/50\n",
      "Epoch 00006: val_loss improved from 2.84517 to 2.82929, saving model to model.best.hdf5\n",
      " - 13s - loss: 2.9412 - acc: 0.8026 - val_loss: 2.8293 - val_acc: 0.8089\n",
      "Epoch 7/50\n",
      "Epoch 00007: val_loss did not improve\n",
      " - 13s - loss: 2.9658 - acc: 0.8019 - val_loss: 3.1961 - val_acc: 0.7862\n",
      "Epoch 8/50\n",
      "Epoch 00008: val_loss did not improve\n",
      " - 13s - loss: 2.9024 - acc: 0.8075 - val_loss: 2.8788 - val_acc: 0.8096\n",
      "Epoch 9/50\n",
      "Epoch 00009: val_loss did not improve\n",
      " - 13s - loss: 2.8010 - acc: 0.8143 - val_loss: 3.0370 - val_acc: 0.7990\n",
      "Epoch 10/50\n",
      "Epoch 00010: val_loss did not improve\n",
      " - 13s - loss: 2.8476 - acc: 0.8116 - val_loss: 2.8416 - val_acc: 0.8109\n",
      "Epoch 11/50\n",
      "Epoch 00011: val_loss did not improve\n",
      " - 13s - loss: 2.8042 - acc: 0.8149 - val_loss: 3.0047 - val_acc: 0.8027\n",
      "Epoch 12/50\n",
      "Epoch 00012: val_loss improved from 2.82929 to 2.75432, saving model to model.best.hdf5\n",
      " - 13s - loss: 2.7562 - acc: 0.8183 - val_loss: 2.7543 - val_acc: 0.8192\n",
      "Epoch 13/50\n",
      "Epoch 00013: val_loss did not improve\n",
      " - 13s - loss: 2.7585 - acc: 0.8191 - val_loss: 2.8015 - val_acc: 0.8165\n",
      "Epoch 14/50\n",
      "Epoch 00014: val_loss did not improve\n",
      " - 13s - loss: 2.7684 - acc: 0.8191 - val_loss: 3.1138 - val_acc: 0.7970\n",
      "Epoch 15/50\n",
      "Epoch 00015: val_loss did not improve\n",
      " - 13s - loss: 2.6927 - acc: 0.8238 - val_loss: 3.1335 - val_acc: 0.7972\n",
      "Epoch 16/50\n",
      "Epoch 00016: val_loss did not improve\n",
      " - 13s - loss: 2.7072 - acc: 0.8236 - val_loss: 2.8271 - val_acc: 0.8159\n",
      "Epoch 17/50\n",
      "Epoch 00017: val_loss did not improve\n",
      " - 13s - loss: 2.7132 - acc: 0.8224 - val_loss: 2.7727 - val_acc: 0.8189\n",
      "Epoch 18/50\n",
      "Epoch 00018: val_loss did not improve\n",
      " - 13s - loss: 2.7063 - acc: 0.8231 - val_loss: 2.8421 - val_acc: 0.8153\n",
      "Epoch 19/50\n",
      "Epoch 00019: val_loss did not improve\n",
      " - 17s - loss: 2.6362 - acc: 0.8284 - val_loss: 2.9020 - val_acc: 0.8118\n",
      "Epoch 20/50\n",
      "Epoch 00020: val_loss did not improve\n",
      " - 16s - loss: 2.6899 - acc: 0.8257 - val_loss: 2.8726 - val_acc: 0.8134\n",
      "Epoch 21/50\n",
      "Epoch 00021: val_loss did not improve\n",
      " - 16s - loss: 2.6608 - acc: 0.8271 - val_loss: 2.8933 - val_acc: 0.8115\n",
      "Epoch 22/50\n",
      "Epoch 00022: val_loss did not improve\n",
      " - 16s - loss: 2.6423 - acc: 0.8294 - val_loss: 2.9249 - val_acc: 0.8113\n",
      "Epoch 23/50\n",
      "Epoch 00023: val_loss did not improve\n",
      " - 16s - loss: 2.6008 - acc: 0.8318 - val_loss: 2.9630 - val_acc: 0.8105\n",
      "Epoch 24/50\n",
      "Epoch 00024: val_loss did not improve\n",
      " - 16s - loss: 2.5895 - acc: 0.8324 - val_loss: 2.8931 - val_acc: 0.8136\n",
      "Epoch 25/50\n",
      "Epoch 00025: val_loss did not improve\n",
      " - 15s - loss: 2.5579 - acc: 0.8343 - val_loss: 2.7807 - val_acc: 0.8203\n",
      "Epoch 26/50\n",
      "Epoch 00026: val_loss did not improve\n",
      " - 16s - loss: 2.5818 - acc: 0.8333 - val_loss: 2.7738 - val_acc: 0.8216\n",
      "Epoch 27/50\n",
      "Epoch 00027: val_loss did not improve\n",
      " - 15s - loss: 2.5436 - acc: 0.8357 - val_loss: 2.8274 - val_acc: 0.8176\n",
      "Epoch 28/50\n",
      "Epoch 00028: val_loss did not improve\n",
      " - 16s - loss: 2.5627 - acc: 0.8347 - val_loss: 2.7709 - val_acc: 0.8217\n",
      "Epoch 29/50\n",
      "Epoch 00029: val_loss did not improve\n",
      " - 16s - loss: 2.5640 - acc: 0.8356 - val_loss: 2.9123 - val_acc: 0.8138\n",
      "Epoch 30/50\n",
      "Epoch 00030: val_loss improved from 2.75432 to 2.72903, saving model to model.best.hdf5\n",
      " - 17s - loss: 2.5869 - acc: 0.8334 - val_loss: 2.7290 - val_acc: 0.8244\n",
      "Epoch 31/50\n",
      "Epoch 00031: val_loss did not improve\n",
      " - 15s - loss: 2.5598 - acc: 0.8352 - val_loss: 2.7810 - val_acc: 0.8208\n",
      "Epoch 32/50\n",
      "Epoch 00032: val_loss did not improve\n",
      " - 15s - loss: 2.6006 - acc: 0.8329 - val_loss: 3.0397 - val_acc: 0.8056\n",
      "Epoch 33/50\n",
      "Epoch 00033: val_loss did not improve\n",
      " - 14s - loss: 2.5635 - acc: 0.8353 - val_loss: 2.9277 - val_acc: 0.8127\n",
      "Epoch 34/50\n",
      "Epoch 00034: val_loss did not improve\n",
      " - 15s - loss: 2.5666 - acc: 0.8352 - val_loss: 2.7293 - val_acc: 0.8250\n",
      "Epoch 35/50\n",
      "Epoch 00035: val_loss did not improve\n",
      " - 14s - loss: 2.5159 - acc: 0.8392 - val_loss: 2.8276 - val_acc: 0.8199\n",
      "Epoch 36/50\n",
      "Epoch 00036: val_loss did not improve\n",
      " - 16s - loss: 2.5736 - acc: 0.8357 - val_loss: 2.7897 - val_acc: 0.8218\n",
      "Epoch 37/50\n",
      "Epoch 00037: val_loss did not improve\n",
      " - 16s - loss: 2.5339 - acc: 0.8374 - val_loss: 2.8269 - val_acc: 0.8188\n",
      "Epoch 38/50\n",
      "Epoch 00038: val_loss did not improve\n",
      " - 17s - loss: 2.4734 - acc: 0.8413 - val_loss: 2.8106 - val_acc: 0.8207\n",
      "Epoch 39/50\n",
      "Epoch 00039: val_loss did not improve\n",
      " - 15s - loss: 2.4864 - acc: 0.8411 - val_loss: 2.8451 - val_acc: 0.8183\n",
      "Epoch 40/50\n",
      "Epoch 00040: val_loss improved from 2.72903 to 2.68444, saving model to model.best.hdf5\n",
      " - 16s - loss: 2.4562 - acc: 0.8427 - val_loss: 2.6844 - val_acc: 0.8283\n",
      "Epoch 41/50\n",
      "Epoch 00041: val_loss did not improve\n",
      " - 17s - loss: 2.5671 - acc: 0.8363 - val_loss: 2.7797 - val_acc: 0.8223\n",
      "Epoch 42/50\n",
      "Epoch 00042: val_loss did not improve\n",
      " - 16s - loss: 2.5207 - acc: 0.8385 - val_loss: 2.8749 - val_acc: 0.8169\n",
      "Epoch 43/50\n",
      "Epoch 00043: val_loss did not improve\n",
      " - 15s - loss: 2.4973 - acc: 0.8400 - val_loss: 2.8460 - val_acc: 0.8185\n",
      "Epoch 44/50\n",
      "Epoch 00044: val_loss did not improve\n",
      " - 15s - loss: 2.4492 - acc: 0.8429 - val_loss: 2.7938 - val_acc: 0.8208\n",
      "Epoch 45/50\n",
      "Epoch 00045: val_loss did not improve\n",
      " - 13s - loss: 2.4331 - acc: 0.8446 - val_loss: 2.9104 - val_acc: 0.8149\n",
      "Epoch 46/50\n",
      "Epoch 00046: val_loss did not improve\n",
      " - 13s - loss: 2.4891 - acc: 0.8410 - val_loss: 2.8160 - val_acc: 0.8199\n",
      "Epoch 47/50\n",
      "Epoch 00047: val_loss did not improve\n",
      " - 13s - loss: 2.4688 - acc: 0.8427 - val_loss: 2.8847 - val_acc: 0.8168\n",
      "Epoch 48/50\n",
      "Epoch 00048: val_loss did not improve\n",
      " - 13s - loss: 2.5127 - acc: 0.8393 - val_loss: 2.9634 - val_acc: 0.8112\n",
      "Epoch 49/50\n",
      "Epoch 00049: val_loss did not improve\n",
      " - 13s - loss: 2.5321 - acc: 0.8385 - val_loss: 2.7431 - val_acc: 0.8249\n",
      "Epoch 50/50\n",
      "Epoch 00050: val_loss did not improve\n",
      " - 13s - loss: 2.3911 - acc: 0.8470 - val_loss: 2.7165 - val_acc: 0.8264\n"
     ]
    },
    {
     "data": {
      "text/plain": [
       "<keras.callbacks.History at 0x2129047d860>"
      ]
     },
     "execution_count": 19,
     "metadata": {},
     "output_type": "execute_result"
    }
   ],
   "source": [
    "model = Sequential()\n",
    "model.add(Conv2D(filters=100, kernel_size=2, input_shape=features.shape[1:]))\n",
    "model.add(Dropout(0.4))\n",
    "model.add(GlobalAveragePooling2D())\n",
    "model.add(Dropout(0.3))\n",
    "model.add(Dense(10, activation='softmax'))\n",
    "model.summary()\n",
    "\n",
    "model.compile(loss='categorical_crossentropy', optimizer='rmsprop', metrics=['accuracy'])\n",
    "\n",
    "checkpointer = ModelCheckpoint(filepath='model.best.hdf5', \n",
    "                               verbose=1, save_best_only=True)\n",
    "model.fit(features, y_train, batch_size=50, epochs=50,\n",
    "          validation_split=0.2, callbacks=[checkpointer],\n",
    "          verbose=2, shuffle=True)"
   ]
  },
  {
   "cell_type": "code",
   "execution_count": 20,
   "metadata": {
    "collapsed": false,
    "deletable": true,
    "editable": true,
    "scrolled": true
   },
   "outputs": [
    {
     "name": "stdout",
     "output_type": "stream",
     "text": [
      "Test accuracy: 82.8300%\n"
     ]
    }
   ],
   "source": [
    "# load the weights that yielded the best validation accuracy\n",
    "model.load_weights('model.best.hdf5')\n",
    "\n",
    "# evaluate test accuracy\n",
    "score = model.evaluate(features_test, y_test, verbose=0)\n",
    "accuracy = 100*score[1]\n",
    "\n",
    "# print test accuracy\n",
    "print('Test accuracy: %.4f%%' % accuracy)"
   ]
  },
  {
   "cell_type": "code",
   "execution_count": null,
   "metadata": {
    "collapsed": false,
    "deletable": true,
    "editable": true
   },
   "outputs": [],
   "source": []
  },
  {
   "cell_type": "code",
   "execution_count": null,
   "metadata": {
    "collapsed": true,
    "deletable": true,
    "editable": true
   },
   "outputs": [],
   "source": []
  }
 ],
 "metadata": {
  "kernelspec": {
   "display_name": "Python 3",
   "language": "python",
   "name": "python3"
  },
  "language_info": {
   "codemirror_mode": {
    "name": "ipython",
    "version": 3
   },
   "file_extension": ".py",
   "mimetype": "text/x-python",
   "name": "python",
   "nbconvert_exporter": "python",
   "pygments_lexer": "ipython3",
   "version": "3.6.0"
  }
 },
 "nbformat": 4,
 "nbformat_minor": 2
}
